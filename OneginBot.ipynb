{
  "nbformat": 4,
  "nbformat_minor": 0,
  "metadata": {
    "kernelspec": {
      "display_name": "Python 3",
      "language": "python",
      "name": "python3"
    },
    "language_info": {
      "codemirror_mode": {
        "name": "ipython",
        "version": 3
      },
      "file_extension": ".py",
      "mimetype": "text/x-python",
      "name": "python",
      "nbconvert_exporter": "python",
      "pygments_lexer": "ipython3",
      "version": "3.7.6"
    },
    "colab": {
      "name": "OneginBot.ipynb",
      "provenance": [],
      "collapsed_sections": [],
      "include_colab_link": true
    }
  },
  "cells": [
    {
      "cell_type": "markdown",
      "metadata": {
        "id": "view-in-github",
        "colab_type": "text"
      },
      "source": [
        "<a href=\"https://colab.research.google.com/github/TeraLoi/python/blob/master/OneginBot.ipynb\" target=\"_parent\"><img src=\"https://colab.research.google.com/assets/colab-badge.svg\" alt=\"Open In Colab\"/></a>"
      ]
    },
    {
      "cell_type": "markdown",
      "metadata": {
        "id": "UdaRM7mEhTbP"
      },
      "source": [
        "# Превращаем «Евгения Онегина» в чат-бот\n",
        "\n",
        "Чат-боты — один из самых популярных трендов последних лет. И неудивительно: мы не расстаемся со смартфонами, при этом большая часть экранного времени уходит на соцсети и мессенджеры. Это значит, что общаться с клиентами и пользователями удобнее всего именно там. \n",
        "\n",
        "Чтобы создавать чат-ботов с нуля, нужно уметь программировать — например, на Python. Однако с помощью этого тьюториала вы сможете самостотельно запустить чат-бота в Telegram без каких бы то ни было навыков программирования и даже не устанавливая Python на компьютер!\n",
        "\n"
      ]
    },
    {
      "cell_type": "markdown",
      "metadata": {
        "id": "6GtGPkywbPLG"
      },
      "source": [
        "## Шаг 1. Устанавливаем библиотеку для работы с Telegram API\n",
        "\n",
        "Как и у любого уважающего себя сервиса, у телеграма есть API *(application program interface)* — специальный набор инструментов для взаимодействия с программой, а не с живым пользователем. Вот [официальная страница](https://core.telegram.org/bots/api) с  его документацией. \n",
        "\n",
        "Для популярных API обычно можно найти готовые «обертки» на разных языках программирования. Они облегчают работу с API, позволяя не обращаться к нему напрямую. Существует довольно много библиотек для работы с Telegram API на Python:\n",
        "* [telepot](https://github.com/nickoala/telepot) \n",
        "* [python-telegram-bot](https://github.com/python-telegram-bot/python-telegram-bot)\n",
        "* [pyTelegramBotAPI](https://github.com/eternnoir/pyTelegramBotAPI). \n",
        "\n",
        "Мы будем использовать последнюю из них — `pyTelegramBotAPI`. Чтобы ее установить, нужно просто запустить следующую ячейку, нажав на кнопочку ▶️ слева от нее или `Ctrl+Enter`. Когда на месте ▶️ появится цифра — значит, код успешно выполнен."
      ]
    },
    {
      "cell_type": "code",
      "metadata": {
        "id": "oZLwZsJshTbS"
      },
      "source": [
        "!pip install pyTelegramBotAPI"
      ],
      "execution_count": null,
      "outputs": []
    },
    {
      "cell_type": "markdown",
      "metadata": {
        "id": "GhgIphu1hTbf"
      },
      "source": [
        "## Шаг 2. Получаем API Token\n",
        "\n",
        "Чтобы создать бота, нам необходимо получить уникальный идентификатор для доступа к Telegram API, который называется **токеном**. Как это сделать?\n",
        "\n",
        "1. Если нет аккаунта в телеграме, то нужно зарегистрироваться — https://web.telegram.org (ввести номер телефона, получить смс с кодом и ввести код на странице подтверждения номера).\n",
        "\n",
        "2. Следующий шаг — начать чат с крестным отцом всех ботов, https://t.me/BotFather (просто кликните по этой ссылке или наберите в поиске телеграма @BotFather). Далее,\n",
        "\n",
        "  * отправляем ему команду `/newbot`;\n",
        "  * вводим имя бота — то, что будет отображаться как имя всем, кто будет общаться с нашим ботом;\n",
        "  * вводим юзернейм бота — он должен заканчиваться на `bot` или `Bot`. Если введенный юзернейм уже занят, то `BotFather` предложит придумать другой.\n",
        "\n",
        "После этого вы получите API токен, уникальный для вашего бота. Если у вас несколько ботов, то у каждого токен будет свой!\n",
        "\n",
        "<img src=\"https://raw.githubusercontent.com/ancatmara/skillfactory/master/img/Inkedget_token_LI.jpg\" width=\"550\" align=\"left\">"
      ]
    },
    {
      "cell_type": "markdown",
      "metadata": {
        "id": "_ywg3kZyhTbm"
      },
      "source": [
        "Теперь нужно скопировать полученный токен и сохранить его в отдельном файле. Для этого просто запустите следующую ячейку и вставьте в открывшуюся строку ваш токен, а затем нажмите `Enter`."
      ]
    },
    {
      "cell_type": "code",
      "metadata": {
        "id": "amF7_Bq1hTbo"
      },
      "source": [
        "with open(\"conf.py\", \"w\", encoding=\"utf-8\") as f:\n",
        "    f.write('TOKEN = \"%s\"' % input(\"Введите ваш токен\"))"
      ],
      "execution_count": null,
      "outputs": []
    },
    {
      "cell_type": "markdown",
      "metadata": {
        "id": "LcBDay02hTby"
      },
      "source": [
        "## Шаг 3. Загружаем данные\n",
        "\n",
        "Отлично, теперь можно переходить к самому интересному — к написанию логики бота! Допустим, мы хотим, чтобы он умел:\n",
        "\n",
        "1. Присылать пользователю случайные цитаты из определенного текста;\n",
        "2. Присылать цитаты с заданным словом.\n",
        "\n",
        "В качестве примера возьмем «Евгения Онегина» — уж у Пушкина-то точно найдутся строчки на все случаи жизни! А вообще можете использовать любые данные, которые вам нравятся — от текстов песен любимой группы до сборника латинских афоризмов. Главное условие, чтобы это был файл формата `.txt` с кодировкой `utf-8`.\n",
        "\n",
        "Чтобы скачать текст «Евгения Онегина», запустите следующую ячейку."
      ]
    },
    {
      "cell_type": "code",
      "metadata": {
        "id": "H38QAD0BhTcF"
      },
      "source": [
        "!wget https://raw.githubusercontent.com/ancatmara/skillfactory/master/data/onegin.txt"
      ],
      "execution_count": null,
      "outputs": []
    },
    {
      "cell_type": "markdown",
      "metadata": {
        "id": "ng9LQTdWwPGM"
      },
      "source": [
        "Если же вы хотите использовать другой текст, то нажмите на значок 📁 слева, выберите `Upload` и загрузите нужный txt-файл cо своего компьютера.\n",
        "\n",
        "<img src=\"https://raw.githubusercontent.com/ancatmara/skillfactory/master/img/upload.png\" width=\"350\" align=\"left\">"
      ]
    },
    {
      "cell_type": "markdown",
      "metadata": {
        "id": "yFDNtWgzhTcE"
      },
      "source": [
        "## Шаг 4. Пишем код бота на Python\n",
        "\n",
        "А теперь переходим непосредственно к коду бота на Python! Если вы совсем не знакомы с программированием, то не стоит бояться — вам предстоит просто запускать ячейки с кодом, как вы уже делали выше 🙂. \n",
        "\n",
        "Для начала импортируем нужные библиотеки и напишем две вспомогательные функции:\n",
        "1. `get_sentences` для разбиения текста из файла на предложения;\n",
        "2. `random_quote` для выбора случайного предложения.\n",
        "\n",
        "**Функция** — это описание того, что нужно сделать с данными, а **библиотека** — готовый набор разных функций."
      ]
    },
    {
      "cell_type": "code",
      "metadata": {
        "id": "U3B6Ovj7hyOD"
      },
      "source": [
        "import re\n",
        "import conf\n",
        "import random\n",
        "import telebot\n",
        "\n",
        "def random_quote(sents):\n",
        "    i = random.randint(0, len(sents)-1)\n",
        "    return sents[i]\n",
        "\n",
        "def get_sentences(path, regex=\".*?[.!?]\\s\"):\n",
        "    s = re.compile(regex, re.DOTALL)\n",
        "    with open(path, \"r\", encoding=\"utf-8\") as f:\n",
        "        sents = s.findall(f.read())\n",
        "    return sents"
      ],
      "execution_count": null,
      "outputs": []
    },
    {
      "cell_type": "markdown",
      "metadata": {
        "id": "X-aQS2Yw3Wt2"
      },
      "source": [
        "Прочитаем текст и разобьем его на предложения. Если вы загрузили свой файл, то измените `onegin.txt` на его название."
      ]
    },
    {
      "cell_type": "code",
      "metadata": {
        "id": "1fywdqi8hTcN"
      },
      "source": [
        "sents = get_sentences(\"onegin.txt\")"
      ],
      "execution_count": null,
      "outputs": []
    },
    {
      "cell_type": "markdown",
      "metadata": {
        "id": "43RMgMxChTcW"
      },
      "source": [
        "Создадим бота, используя наш токен."
      ]
    },
    {
      "cell_type": "code",
      "metadata": {
        "id": "FlVjK7NDhTcX"
      },
      "source": [
        "bot = telebot.TeleBot(conf.TOKEN)"
      ],
      "execution_count": null,
      "outputs": []
    },
    {
      "cell_type": "markdown",
      "metadata": {
        "id": "_nZMP1IrhTcc"
      },
      "source": [
        "Теперь напишем **обработчики сообщений** *(message handlers)* — специальные функции, которые позволят боту реагировать на сообщения. В общем случае обработчик сообщений выглядит так:\n",
        "\n",
        "```python\n",
        "# указываем, что это обработчик сообщений\n",
        "@bot.message_handler(...)\n",
        "# определение функции\n",
        "def my_function(message):\n",
        "    # код, который генерирует ответ\n",
        "    reply = 'Привет!'\n",
        "    # код для отправки сообщения в чат\n",
        "    bot.send_message(message.chat.id, reply)\n",
        "```"
      ]
    },
    {
      "cell_type": "markdown",
      "metadata": {
        "id": "0V-kcOuIhTce"
      },
      "source": [
        "* `bot` — это имя переменной с нашим ботом;\n",
        "* `...` — фильтр (то, на какие сообщения будет реагировать функция)\n",
        "\n",
        "Подробнее про обработчики сообщений и фильтры можно почитать в [документации библиотеки](https://github.com/eternnoir/pyTelegramBotAPI#message-handlers).\n",
        "\n",
        "Для начала напишем функцию `send_quote`, которая по команде `\\send` будет отправлять пользователю случайное предложение из текста."
      ]
    },
    {
      "cell_type": "code",
      "metadata": {
        "id": "bA9_sc1ThTcf"
      },
      "source": [
        "@bot.message_handler(commands=['send'])\n",
        "def send_quote(message):\n",
        "    bot.send_message(message.chat.id, random_quote(sents))"
      ],
      "execution_count": null,
      "outputs": []
    },
    {
      "cell_type": "markdown",
      "metadata": {
        "id": "6GxjLmmahTcm"
      },
      "source": [
        "Обработчик сообщений необязательно связан с какой-то командой. Например, можно написать такую функцию, которая будет реагировать на любое сообщение. Воспользуемся этим, чтобы реализовать поиск по тексту — примерно как `Ctrl+F/Сmd+F` в текстовом редакторе или браузере. \n",
        "\n",
        "То есть, если пользователь отправит боту какое-то слово или фразу, мы будем искать точное совпадение в «Евгении Онегине» и отправим пользователю результат. Если найдется несколько предложений с заданным словом, то случайным образом выберем одно из них; если же не найдется ничего, честно скажем об этом пользователю."
      ]
    },
    {
      "cell_type": "code",
      "metadata": {
        "id": "m5xsqhfwhTcn"
      },
      "source": [
        "@bot.message_handler(func=lambda m: True)\n",
        "def query_quote(message):\n",
        "    query = message.text\n",
        "    res = [sent for sent in sents if query.lower() in sent.lower()]\n",
        "    if len(res) != 0:\n",
        "        bot.send_message(message.chat.id, random_quote(res))\n",
        "    else:\n",
        "        bot.send_message(message.chat.id, \"Об этом Пушкин не писал!\")"
      ],
      "execution_count": null,
      "outputs": []
    },
    {
      "cell_type": "markdown",
      "metadata": {
        "id": "P83NmYXShTcu"
      },
      "source": [
        "Теперь сделаем так, чтобы наш бот постоянно спрашивал сервера телеграма, не пришло ли ему новых сообщений. Параметр `none_stop=True` означает, что при возникновении ошибок бот должен стараться не прекращать работу.\n",
        "\n",
        "```python\n",
        "if __name__ == '__main__':\n",
        "    bot.polling(none_stop=True)\n",
        "```"
      ]
    },
    {
      "cell_type": "markdown",
      "metadata": {
        "id": "tXGkEIKohTc3"
      },
      "source": [
        "## Шаг 5. Запускаем бота\n",
        "\n",
        "Соберем весь код в одной ячейке. Чтобы бот заработал, нужно просто запустить ее! Теперь нашего бота можно найти в телеграме и написать ему.\n",
        "\n",
        "Обратите внимание, что бот будет работать, пока запущена ячейка — т.е. сейчас не нужно дожидаться, пока на месте ▶️ появится цифра. Когда вы захотите остановить бота, нужно нажать ⏹. Впрочем, даже вы этого не сделаете, то после некоторого времени бездействия Google Colab сам остановит процесс."
      ]
    },
    {
      "cell_type": "code",
      "metadata": {
        "id": "rzAs6wFEhTc5"
      },
      "source": [
        "import re\n",
        "import conf\n",
        "import random\n",
        "import telebot\n",
        "\n",
        "def get_sentences(path, regex=\".*?[.!?]\\s\"):\n",
        "    with open(path, \"r\", encoding=\"utf-8\") as f:\n",
        "        sents = re.findall(regex, f.read(), re.DOTALL)\n",
        "    return sents\n",
        "\n",
        "def random_quote(sents):\n",
        "    i = random.randint(0, len(sents)-1)\n",
        "    return sents[i]\n",
        "\n",
        "bot = telebot.TeleBot(conf.TOKEN) \n",
        "sents = get_sentences(\"onegin.txt\")\n",
        "\n",
        "@bot.message_handler(commands=['send'])\n",
        "def send_quote(message):\n",
        "    bot.send_message(message.chat.id, random_quote(sents))\n",
        "    \n",
        "@bot.message_handler(func=lambda m: True) \n",
        "def query_quote(message):\n",
        "    query = message.text\n",
        "    res = [sent for sent in sents if query.lower() in sent.lower()]\n",
        "    if len(res) != 0:\n",
        "        bot.send_message(message.chat.id, random_quote(res))\n",
        "    else:\n",
        "        bot.send_message(message.chat.id, \"Об этом Пушкин не писал!\")\n",
        "\n",
        "if __name__ == '__main__':\n",
        "    bot.polling(none_stop=True)"
      ],
      "execution_count": null,
      "outputs": []
    },
    {
      "cell_type": "markdown",
      "metadata": {
        "id": "6WoezvbRhTdE"
      },
      "source": [
        "## Шаг 6. Тестируем бота\n",
        "\n",
        "Посмотрим, что может наш бот. Найти его в телеграме можно по тому юзернейму, который вы указали — например, `@EugeneOneginBot`.\n",
        "\n",
        "1. Если отправить ему команду `/send`, то он пришлет случайную цитату (одно предложение) из «Евгения Онегина».\n",
        "\n",
        "<img src=\"https://raw.githubusercontent.com/ancatmara/skillfactory/master/img/send.png\" width=\"550\" align=\"left\">\n",
        "\n",
        "\n"
      ]
    },
    {
      "cell_type": "markdown",
      "metadata": {
        "id": "gZsPhFm7Af9e"
      },
      "source": [
        "2. Если отправить ему любое слово или фразу, он попытается найти ее в тексте и прислать нам результат.\n",
        "\n",
        "<img src=\"https://raw.githubusercontent.com/ancatmara/skillfactory/master/img/search.png\" width=\"550\" align=\"left\">"
      ]
    },
    {
      "cell_type": "markdown",
      "metadata": {
        "id": "-kaJiK7QAkh8"
      },
      "source": [
        "3. Если ничего не найдется, бот нам об этом скажет.\n",
        "\n",
        "<img src=\"https://raw.githubusercontent.com/ancatmara/skillfactory/master/img/not_found.png\" width=\"550\" align=\"left\">"
      ]
    },
    {
      "cell_type": "markdown",
      "metadata": {
        "id": "_x7U48fChTdG"
      },
      "source": [
        "## Шаг 7. Дополнительные настройки\n",
        "\n",
        "С помощью `@BotFather` можно сделать для нашего бота описание, список команд, аватарку и еще много чего.\n",
        "\n",
        "<img src=\"https://raw.githubusercontent.com/ancatmara/skillfactory/master/img/botfather.png\" width=\"350\" align=\"left\">\n",
        "\n"
      ]
    },
    {
      "cell_type": "markdown",
      "metadata": {
        "id": "mgNJbRtLBzQn"
      },
      "source": [
        "**Список команд**\n",
        "\n",
        "<img src=\"https://raw.githubusercontent.com/ancatmara/skillfactory/master/img/setcommands.png\" width=\"500\" align=\"left\">"
      ]
    },
    {
      "cell_type": "markdown",
      "metadata": {
        "id": "HP5LwYyYhTdG"
      },
      "source": [
        "Теперь, когда пользователь введет `\\` в чате с ботом, он увидит выплывающий список команд:\n",
        "\n",
        "<img src=\"https://raw.githubusercontent.com/ancatmara/skillfactory/master/img/commands.png\" width=\"500\" align=\"left\">"
      ]
    },
    {
      "cell_type": "markdown",
      "metadata": {
        "id": "ukT8BbOihTdH"
      },
      "source": [
        "**Описание**\n",
        "\n",
        "<img src=\"https://raw.githubusercontent.com/ancatmara/skillfactory/master/img/setdescription.png\" width=\"500\" align=\"left\">"
      ]
    },
    {
      "cell_type": "markdown",
      "metadata": {
        "id": "YnWOyzZ6hTdH"
      },
      "source": [
        "Описание появится в самом начале чата с ботом.\n",
        "\n",
        "<img src=\"https://raw.githubusercontent.com/ancatmara/skillfactory/master/img/descr.png\" width=\"500\" align=\"left\">"
      ]
    },
    {
      "cell_type": "markdown",
      "metadata": {
        "id": "UXDtc-w7CCYl"
      },
      "source": [
        "Поздравляем, вы справились! Как видите, в программировании ничего сложного нет. \n",
        "\n",
        "Эта задача — ваш первый маленький, но важный шаг на пути к серьезной профессии. Стать профессионалом и получить высокооплачиваемую профессию можно с нуля. \n",
        "\n",
        "Больше секретов по ссылке: https://clck.ru/P5ACf\n"
      ]
    }
  ]
}